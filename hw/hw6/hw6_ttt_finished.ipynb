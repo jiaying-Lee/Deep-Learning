{
  "nbformat": 4,
  "nbformat_minor": 0,
  "metadata": {
    "accelerator": "GPU",
    "colab": {
      "name": "hw6_ttt.ipynb",
      "provenance": [],
      "collapsed_sections": []
    },
    "kernelspec": {
      "display_name": "Python 3",
      "language": "python",
      "name": "python3"
    },
    "language_info": {
      "codemirror_mode": {
        "name": "ipython",
        "version": 3
      },
      "file_extension": ".py",
      "mimetype": "text/x-python",
      "name": "python",
      "nbconvert_exporter": "python",
      "pygments_lexer": "ipython3",
      "version": "3.7.4"
    }
  },
  "cells": [
    {
      "cell_type": "markdown",
      "metadata": {
        "id": "kdLtY9WviBTN"
      },
      "source": [
        "In this exercise we will train a simple Q-network in TensorFlow to solve Tic Tac Toe."
      ]
    },
    {
      "cell_type": "code",
      "metadata": {
        "id": "7z29dkm2oA4_"
      },
      "source": [
        "import random\n",
        "import collections\n",
        "import numpy as np\n",
        "import tensorflow as tf\n",
        "import matplotlib.pyplot as plt\n",
        "import matplotlib.ticker\n",
        "%matplotlib inline"
      ],
      "execution_count": null,
      "outputs": []
    },
    {
      "cell_type": "markdown",
      "metadata": {
        "id": "b396uo-RiNyl"
      },
      "source": [
        "Hopefully everyone has played Tic Tac Toe at some point. Here is a [reminder](https://en.wikipedia.org/wiki/Tic-tac-toe). Let us set up some helper functions to define the game itself. The typical board size is 3x3 but we will be general."
      ]
    },
    {
      "cell_type": "code",
      "metadata": {
        "id": "xv_30ZVSoA4_"
      },
      "source": [
        "def new_board(size):\n",
        "    return np.zeros(shape=(size, size))"
      ],
      "execution_count": null,
      "outputs": []
    },
    {
      "cell_type": "code",
      "metadata": {
        "id": "nxSWzNXLoA4_"
      },
      "source": [
        "def available_moves(board):\n",
        "  #  return a list of position that is aviable for next move. eg:\n",
        "  #  [[1 0]\n",
        "  #  [1 2]\n",
        "  #  [2 0]]\n",
        "    return np.argwhere(board == 0)  \n"
      ],
      "execution_count": null,
      "outputs": []
    },
    {
      "cell_type": "code",
      "metadata": {
        "id": "pPIz-ZocoA4_"
      },
      "source": [
        "def check_game_end(board):\n",
        "    best = max(list(board.sum(axis=0)) +    # columns\n",
        "               list(board.sum(axis=1)) +    # rows\n",
        "               [board.trace()] +            # main diagonal\n",
        "               [np.fliplr(board).trace()],  # other diagonal\n",
        "               key=abs)\n",
        "    if abs(best) == board.shape[0]: \n",
        "        return np.sign(best)  # winning player, +1 or -1\n",
        "    if available_moves(board).size == 0:\n",
        "        return 0  # a draw (otherwise, return None by default)"
      ],
      "execution_count": null,
      "outputs": []
    },
    {
      "cell_type": "markdown",
      "metadata": {
        "id": "YV0_JWY_iz0U"
      },
      "source": [
        "Now, let's define our players. We will define three types of bots. A *random* player picks a random position in the board each move."
      ]
    },
    {
      "cell_type": "code",
      "metadata": {
        "id": "dg7huG59oA4_"
      },
      "source": [
        "class Player():\n",
        "    def new_game(self):\n",
        "        pass\n",
        "    def reward(self, value):\n",
        "        pass\n",
        "\n",
        "class RandomPlayer(Player):\n",
        "    def move(self, board):\n",
        "        # print(available_moves(board)) \n",
        "        # print(random.choice(available_moves(board)))  # the move is in [x y] format. eg. [1 2]\n",
        "        return random.choice(available_moves(board))"
      ],
      "execution_count": null,
      "outputs": []
    },
    {
      "cell_type": "markdown",
      "metadata": {
        "id": "LfNmM7sHjIoq"
      },
      "source": [
        "A *boring* player always picks the *first* available position on the board."
      ]
    },
    {
      "cell_type": "code",
      "metadata": {
        "id": "BH3F96S0oA4_"
      },
      "source": [
        "class BoringPlayer(Player):\n",
        "    def move(self, board):\n",
        "        return available_moves(board)[0]"
      ],
      "execution_count": null,
      "outputs": []
    },
    {
      "cell_type": "markdown",
      "metadata": {
        "id": "4oUX34hMj1aj"
      },
      "source": [
        "We can simulate games by playing one bot vs another. The starting player is labeled +1."
      ]
    },
    {
      "cell_type": "code",
      "metadata": {
        "id": "CLcrjxQioA4_"
      },
      "source": [
        "def play(board, player_objs):\n",
        "    for player in [+1, -1]:\n",
        "        player_objs[player].new_game()\n",
        "    player = +1\n",
        "    game_end = check_game_end(board)  \n",
        "    while game_end is None:\n",
        "        move = player_objs[player].move(board)\n",
        "        board[tuple(move)] = player\n",
        "        game_end = check_game_end(board)\n",
        "        player *= -1  # switch players\n",
        "    for player in [+1, -1]:\n",
        "        # the reward for wins is +1, and -1 for draws/losses\n",
        "        reward_value = +1 if player == game_end else -1\n",
        "        player_objs[player].reward(reward_value)\n",
        "    return game_end # return the winner "
      ],
      "execution_count": null,
      "outputs": []
    },
    {
      "cell_type": "code",
      "metadata": {
        "colab": {
          "base_uri": "https://localhost:8080/",
          "height": 346
        },
        "id": "-InFBCMooA4_",
        "outputId": "c30d7bbb-05e7-4e4c-9950-6731fbdf98f0"
      },
      "source": [
        "# 3x3, random vs. random\n",
        "random.seed(1)\n",
        "\n",
        "# TODO Q1. Play 2000 games between two bots, both of them random players.\n",
        "player1 = RandomPlayer()\n",
        "player2 = RandomPlayer() \n",
        "player_objs = {}\n",
        "player_objs[+1] = player1\n",
        "player_objs[-1] = player2\n",
        "# print(player_objs[+1])\n",
        "player1_win_cnt = 0\n",
        "player2_win_cnt = 0\n",
        "draw_cnt = 0\n",
        "\n",
        "game_res = []\n",
        "for i in range(2000):\n",
        "  winner = play(new_board(3),player_objs) # the board size is 3x3\n",
        "  # print(winner)\n",
        "  game_res.append(winner)\n",
        "  if winner == 1.0:\n",
        "    player1_win_cnt += 1\n",
        "  elif winner == -1.0:\n",
        "    player2_win_cnt += 1\n",
        "  else:\n",
        "    draw_cnt += 1\n",
        "# Print the number of wins by Player 1, number of wins by Player 2, and draws.\n",
        "print('Player1 won ' + str(player1_win_cnt) + ' times')\n",
        "print('Player2 won ' + str(player2_win_cnt) + ' times')\n",
        "print('Draw ' + str(draw_cnt) + ' times')\n",
        "\n",
        "# Plot (as a function of game index) the moving average of game outcomes\n",
        "# over a window of size 500. \n",
        "# You might find the following functions helpful for plotting.\n",
        "show(game_res)"
      ],
      "execution_count": null,
      "outputs": [
        {
          "output_type": "stream",
          "text": [
            "Player1 won 1194 times\n",
            "Player2 won 564 times\n",
            "Draw 242 times\n"
          ],
          "name": "stdout"
        },
        {
          "output_type": "display_data",
          "data": {
            "image/png": "[encoded data removed]",
            "text/plain": [
              "<Figure size 432x288 with 1 Axes>"
            ]
          },
          "metadata": {
            "tags": []
          }
        }
      ]
    },
    {
      "cell_type": "code",
      "metadata": {
        "id": "vdAMumwhoA4_"
      },
      "source": [
        "def moving(data, size, value=+1):\n",
        "    binary_data = [x == value for x in data]\n",
        "    return [sum(binary_data[i-size:i])/size for i in range(size, len(data) + 1)]\n",
        "\n",
        "def show(results, size=500, title='Moving average of game outcomes',\n",
        "         first_label='First Player Wins', second_label='Second Player Wins', draw_label='Draw'):\n",
        "    x_values = range(size, len(results) + 1)\n",
        "    first = moving(results, value=+1, size=size)\n",
        "    second = moving(results, value=-1, size=size)\n",
        "    draw = moving(results, value=0, size=size)\n",
        "    first, = plt.plot(x_values, first, color='red', label=first_label)\n",
        "    second, = plt.plot(x_values, second, color='blue', label=second_label)\n",
        "    draw, = plt.plot(x_values, draw, color='grey', label=draw_label)\n",
        "    plt.xlim([0, len(results)])\n",
        "    plt.ylim([0, 1])\n",
        "    plt.title(title)\n",
        "    plt.legend(handles=[first, second, draw], loc='best')\n",
        "    ax = plt.gca()\n",
        "    ax.yaxis.set_major_formatter(matplotlib.ticker.PercentFormatter(xmax=1))\n",
        "    ax.xaxis.set_major_formatter(matplotlib.ticker.StrMethodFormatter('{x:,.0f}'))\n",
        "    plt.ylabel(f'Rate over last {size} games')\n",
        "    plt.xlabel('Game index')\n",
        "    plt.show()"
      ],
      "execution_count": null,
      "outputs": []
    },
    {
      "cell_type": "code",
      "metadata": {
        "colab": {
          "base_uri": "https://localhost:8080/",
          "height": 346
        },
        "id": "YSTphX8_oA4_",
        "outputId": "ba7bef5e-b418-4eaa-eaa0-1f59c1ca0513"
      },
      "source": [
        "# 3x3, random vs. boring\n",
        "\n",
        "# TODO Q2. Play 2000 games between two bots, where Player 1 is Random and Player 2 is Boring.\n",
        "random.seed(2)\n",
        "\n",
        "player1 = RandomPlayer()\n",
        "player2 = BoringPlayer() \n",
        "player_objs = {}\n",
        "player_objs[+1] = player1\n",
        "player_objs[-1] = player2\n",
        "# print(player_objs[+1])\n",
        "player1_win_cnt = 0\n",
        "player2_win_cnt = 0\n",
        "draw_cnt = 0\n",
        "\n",
        "game_res = []\n",
        "for i in range(2000):\n",
        "  winner = play(new_board(3),player_objs) # the board size is 3x3\n",
        "  # print(winner)\n",
        "  game_res.append(winner)\n",
        "  if winner == 1.0:\n",
        "    player1_win_cnt += 1\n",
        "  elif winner == -1.0:\n",
        "    player2_win_cnt += 1\n",
        "  else:\n",
        "    draw_cnt += 1\n",
        "# Print the number of wins by Player 1, number of wins by Player 2, and draws.\n",
        "print('Player1 won ' + str(player1_win_cnt) + ' times')\n",
        "print('Player2 won ' + str(player2_win_cnt) + ' times')\n",
        "print('Draw ' + str(draw_cnt) + ' times')\n",
        "# Plot (as a function of game index) the moving average of game outcomes.\n",
        "show(game_res)\n",
        "# Comment on the results, and speculate on why this might be happening."
      ],
      "execution_count": null,
      "outputs": [
        {
          "output_type": "stream",
          "text": [
            "Player1 won 1033 times\n",
            "Player2 won 891 times\n",
            "Draw 76 times\n"
          ],
          "name": "stdout"
        },
        {
          "output_type": "display_data",
          "data": {
            "image/png": "[encoded data removed]",
            "text/plain": [
              "<Figure size 432x288 with 1 Axes>"
            ]
          },
          "metadata": {
            "tags": []
          }
        }
      ]
    },
    {
      "cell_type": "markdown",
      "metadata": {
        "id": "ikPjbsCKtnA7"
      },
      "source": [
        "**COMMENT**: As we can see from the above results, we knows that: \n",
        "\n",
        "1.   In both cases, the first player has higher rate than the second player. The player that goes first will win about twice as often as the player that goes second. To some extent, this makes sense. There are only nine squares on a Tic-Tac-Toe board, the first player will get five of them but the second player will only get four.\n",
        "2.   When change the second player from RandomPlayer to BoringPlayer, the win rate increases, and the draw time decrease, which means that the strategy of always picking the *first* available position on the board is better than picking a *random* position in the board each move, when the opponent is a RandomPlayer. The reason of this might be that the strategy of RandomPlayer, chosing the move from left to right, from top to bottom, is more likely to block opponent's winning path (three of their marks in a horizontal, vertical, or diagonal row is the winner) and more likely to fill the first row and win the game, if the RandomPlayer doesn't fill the place in the first row in the first three steps.\n"
      ]
    },
    {
      "cell_type": "markdown",
      "metadata": {
        "id": "GRwAxMN8l1fJ"
      },
      "source": [
        "We will now use Q-learning using a neural network to train an RL agent. \n",
        "\n",
        "The Q-function will be parametrically represented via a very simple single layer with linear activations (essentially, a linear model).\n",
        "\n",
        "Complete the Q-learning part in the code snippet below.\n",
        "\n"
      ]
    },
    {
      "cell_type": "code",
      "metadata": {
        "id": "5PSqOYqVoA5A"
      },
      "source": [
        "class Agent(Player):\n",
        "    # Define single layer model, MSE loss, and SGD optimizer\n",
        "    def __init__(self, size, seed):\n",
        "        # self.decay_factor = decay_factor # I added a decay_factor for calculating the Q-values\n",
        "        self.size = size\n",
        "        self.training = True\n",
        "        self.model = tf.keras.Sequential()\n",
        "        self.model.add(tf.keras.layers.Dense(\n",
        "            size**2,\n",
        "            kernel_initializer=tf.keras.initializers.glorot_uniform(seed=seed)))\n",
        "        self.model.compile(optimizer='sgd', loss='mean_squared_error')\n",
        "\n",
        "    # Helper function to predict the Q-function\n",
        "    def predict_q(self, board):\n",
        "        return self.model.predict(\n",
        "            np.array([board.ravel()])).reshape(self.size, self.size)\n",
        "\n",
        "    # Helper function to train the network\n",
        "    def fit_q(self, board, q_values):\n",
        "        self.model.fit(\n",
        "            np.array([board.ravel()]), np.array([q_values.ravel()]), verbose=0)\n",
        "\n",
        "    # The agent preserves history, which is reset when a new game starts.\n",
        "    def new_game(self):\n",
        "        self.last_move = None\n",
        "        self.board_history = []\n",
        "        self.q_history = []\n",
        "\n",
        "    # TODO Q3: Implement the \"move\" method below.\n",
        "    # The \"move\" method should use the output of the Q-network\n",
        "    # to pick the next best move.\n",
        "    # Make sure you are only picking \"legal\" moves. \n",
        "\n",
        "    # After picking the move, we call the reward method.\n",
        "\n",
        "    def move(self, board):\n",
        "        # ... COMPLETE THIS\n",
        "        q_values = self.predict_q(board)\n",
        "        # print('prediction of q table :')\n",
        "        # print(q_values)\n",
        "\n",
        "        available_moves_thistime = available_moves(board)\n",
        "\n",
        "        move_options = []\n",
        "        move = available_moves_thistime[0]\n",
        "        move_options.append(move)\n",
        "        # print('the available moves: ')\n",
        "        # print(available_moves_thistime)\n",
        "\n",
        "        # find the best move in available moves\n",
        "        for x, y in available_moves_thistime:\n",
        "            if q_values[x][y] > q_values[move[0]][move[1]]:\n",
        "              move = [x, y]\n",
        "              move_options = []\n",
        "              move_options.append(move)\n",
        "            elif ( q_values[x][y] == q_values[move[0]][move[1]] and move[0] != x and move[1] != y ) :\n",
        "              move_options.append([x, y])\n",
        "            else:\n",
        "              continue\n",
        "\n",
        "\n",
        "        # when there are multiple best available moves, randomly pick one\n",
        "        if len(move_options) > 1:\n",
        "          move = random.choice(move_options)\n",
        "        # print('all the move options: ')\n",
        "        # print(move_options)\n",
        "        # print('the selected move: ')\n",
        "        # print(move)\n",
        "\n",
        "        # update the reward with Bellman update\n",
        "\n",
        "        # last_q_value = 0\n",
        "        # # use the q-value of our move in last round as the reward we already got\n",
        "        # if self.last_move is not None:\n",
        "        #   last_q_value = self.q_history[-1][self.last_move]\n",
        "        # value = last_q_value + self.decay_factor * q_values[x][y]\n",
        "        \n",
        "        value = q_values[move[0]][move[1]]\n",
        "        \n",
        "        if self.last_move is not None:\n",
        "            self.reward(value)\n",
        "\n",
        "        self.board_history.append(board.copy())\n",
        "        # here we just append the predited q value table without the updated Q_value\n",
        "        # the reason why is that we can find the q-value of our move in last round \n",
        "        # and use it as the reward we already got, which brings convience for doing Bellman equation\n",
        "        self.q_history.append(q_values)\n",
        "        # update the last move as the move we just chose\n",
        "        self.last_move = move\n",
        "        return move\n",
        "\n",
        "    # The reward method trains the Q-network, updating the Q-values with \n",
        "    # a new estimate for the last move. This is the Bellman update.\n",
        "    def reward(self, reward_value):\n",
        "        if not self.training:\n",
        "            return\n",
        "        new_q = self.q_history[-1].copy()\n",
        "        new_q[self.last_move] = reward_value\n",
        "        self.fit_q(self.board_history[-1], new_q)"
      ],
      "execution_count": null,
      "outputs": []
    },
    {
      "cell_type": "code",
      "metadata": {
        "colab": {
          "background_save": true
        },
        "id": "RQc7ENOnoA5A",
        "outputId": "3b85ffc8-dba1-46be-cff3-ce11ba400e69"
      },
      "source": [
        "# 3x3, q-learning vs. random\n",
        "\n",
        "# TODO Q4. Play 2000 games, where Player 1 is a Q-network and Player 2 is Random.\n",
        "random.seed(3)\n",
        "# player1 = Agent(size=3,seed=random.seed(1), decay_factor = 0.01)\n",
        "player1 = Agent(size=3,seed=3)\n",
        "player2 = RandomPlayer() \n",
        "player_objs = {}\n",
        "player_objs[+1] = player1\n",
        "player_objs[-1] = player2\n",
        "# print(player_objs[+1])\n",
        "player1_win_cnt = 0\n",
        "player2_win_cnt = 0\n",
        "draw_cnt = 0\n",
        "\n",
        "game_res = []\n",
        "for i in range(2000):\n",
        "  winner = play(new_board(3),player_objs) # the board size is 3x3\n",
        "  # print(winner)\n",
        "  game_res.append(winner)\n",
        "  if winner == 1.0:\n",
        "    player1_win_cnt += 1\n",
        "  elif winner == -1.0:\n",
        "    player2_win_cnt += 1\n",
        "  else:\n",
        "    draw_cnt += 1\n",
        "\n",
        "# Print the number of wins by Player 1, number of wins by Player 2, and draws.\n",
        "print('Player1 won ' + str(player1_win_cnt) + ' times')\n",
        "print('Player2 won ' + str(player2_win_cnt) + ' times')\n",
        "print('Draw ' + str(draw_cnt) + ' times')\n",
        "# Plot (as a function of game index) the moving average of game outcomes.\n",
        "show(game_res)"
      ],
      "execution_count": null,
      "outputs": [
        {
          "output_type": "stream",
          "text": [
            "Player1 won 1409 times\n",
            "Player2 won 429 times\n",
            "Draw 162 times\n"
          ],
          "name": "stdout"
        },
        {
          "output_type": "display_data",
          "data": {
            "image/png": "[encoded data removed]",
            "text/plain": [
              "<Figure size 432x288 with 1 Axes>"
            ]
          },
          "metadata": {
            "tags": []
          }
        }
      ]
    },
    {
      "cell_type": "markdown",
      "metadata": {
        "id": "Tkb5uzkYUdkA"
      },
      "source": [
        "**COMMENT**: As we can see from the above result, we knows that as the Agent played more and more times, the win rate of Agent is getting higher and higher, which means that it learned the strategy of how to win the RandomPlayer and it know how to play with experience."
      ]
    },
    {
      "cell_type": "code",
      "metadata": {
        "id": "yKggFJmpxir0"
      },
      "source": [
        ""
      ],
      "execution_count": null,
      "outputs": []
    }
  ]
}