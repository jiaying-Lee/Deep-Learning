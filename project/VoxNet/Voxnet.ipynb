{
  "nbformat": 4,
  "nbformat_minor": 0,
  "metadata": {
    "colab": {
      "name": "Voxnet.ipynb",
      "provenance": [],
      "collapsed_sections": [],
      "toc_visible": true
    },
    "kernelspec": {
      "name": "python3",
      "display_name": "Python 3"
    },
    "accelerator": "GPU"
  },
  "cells": [
    {
      "cell_type": "markdown",
      "metadata": {
        "id": "HXQDiL5b03BH"
      },
      "source": [
        "### Import Library"
      ]
    },
    {
      "cell_type": "code",
      "metadata": {
        "id": "9k4FVAIFkk59"
      },
      "source": [
        "import os\n",
        "import matplotlib.pyplot as plt\n",
        "import numpy as np\n",
        "import random\n",
        "import itertools\n",
        "np.random.seed(1)\n",
        "import keras\n",
        "from keras.models import Sequential\n",
        "from keras.layers import Dense, Flatten, Reshape\n",
        "from keras.layers.convolutional import Conv3D\n",
        "from tensorflow.keras import optimizers\n",
        "from sklearn.metrics import accuracy_score, confusion_matrix\n",
        "from sklearn.utils import shuffle"
      ],
      "execution_count": 1,
      "outputs": []
    },
    {
      "cell_type": "markdown",
      "metadata": {
        "id": "4sBrXga91DYe"
      },
      "source": [
        "## Upload and preprocess the ModelNet10 Dataset\n",
        "\n",
        "The input of the VoxNet should be voxel format. For ModelNet10, all the 3d model files are in pointclouds format. Thus, we use `binvox` (https://www.patrickmin.com/binvox/) as the tool to “voxelize” the data. \n",
        "\n",
        "`binvox` is a straight-forward program that reads a 3D model file, rasterizes it into a binary 3D voxel grid, and writes the resulting voxel file."
      ]
    },
    {
      "cell_type": "code",
      "metadata": {
        "colab": {
          "base_uri": "https://localhost:8080/"
        },
        "id": "FEZsgn7otNRp",
        "outputId": "55fd5b7e-6249-4a0c-8865-9c470fa29ee8"
      },
      "source": [
        "!wget http://3dvision.princeton.edu/projects/2014/3DShapeNets/ModelNet10.zip\n",
        "!unzip -q ModelNet10.zip;"
      ],
      "execution_count": 2,
      "outputs": [
        {
          "output_type": "stream",
          "text": [
            "--2020-12-16 00:37:27--  http://3dvision.princeton.edu/projects/2014/3DShapeNets/ModelNet10.zip\n",
            "Resolving 3dvision.princeton.edu (3dvision.princeton.edu)... 128.112.136.61\n",
            "Connecting to 3dvision.princeton.edu (3dvision.princeton.edu)|128.112.136.61|:80... connected.\n",
            "HTTP request sent, awaiting response... 200 OK\n",
            "Length: 473402300 (451M) [application/zip]\n",
            "Saving to: ‘ModelNet10.zip’\n",
            "\n",
            "ModelNet10.zip      100%[===================>] 451.47M  86.8MB/s    in 5.2s    \n",
            "\n",
            "2020-12-16 00:37:33 (86.2 MB/s) - ‘ModelNet10.zip’ saved [473402300/473402300]\n",
            "\n"
          ],
          "name": "stdout"
        }
      ]
    },
    {
      "cell_type": "code",
      "metadata": {
        "colab": {
          "base_uri": "https://localhost:8080/"
        },
        "id": "PlrNRItTuRGh",
        "outputId": "f791d2cb-4ec1-4747-adb1-30daa6828c33"
      },
      "source": [
        "!pip install path.py;\n",
        "from path import Path\n",
        "path = Path(\"ModelNet10\")"
      ],
      "execution_count": 3,
      "outputs": [
        {
          "output_type": "stream",
          "text": [
            "Collecting path.py\n",
            "  Downloading https://files.pythonhosted.org/packages/8f/04/130b7a538c25693c85c4dee7e25d126ebf5511b1eb7320e64906687b159e/path.py-12.5.0-py3-none-any.whl\n",
            "Collecting path\n",
            "  Downloading https://files.pythonhosted.org/packages/ee/11/9f51c02c14cdd29383bd3a880d472a22629e090fbd1415075c979ff76d94/path-15.0.1-py3-none-any.whl\n",
            "Installing collected packages: path, path.py\n",
            "Successfully installed path-15.0.1 path.py-12.5.0\n"
          ],
          "name": "stdout"
        }
      ]
    },
    {
      "cell_type": "code",
      "metadata": {
        "colab": {
          "base_uri": "https://localhost:8080/"
        },
        "id": "qxA-CCc1FAf-",
        "outputId": "b0479e85-523f-498c-daf5-a103dc69de50"
      },
      "source": [
        "folders = [dir for dir in sorted(os.listdir(path)) if os.path.isdir(path/dir)]\n",
        "classes = {folder: i for i, folder in enumerate(folders)};\n",
        "print( 'Classes in ModelNet10: ')\n",
        "classes"
      ],
      "execution_count": 4,
      "outputs": [
        {
          "output_type": "stream",
          "text": [
            "Classes in ModelNet10: \n"
          ],
          "name": "stdout"
        },
        {
          "output_type": "execute_result",
          "data": {
            "text/plain": [
              "{'bathtub': 0,\n",
              " 'bed': 1,\n",
              " 'chair': 2,\n",
              " 'desk': 3,\n",
              " 'dresser': 4,\n",
              " 'monitor': 5,\n",
              " 'night_stand': 6,\n",
              " 'sofa': 7,\n",
              " 'table': 8,\n",
              " 'toilet': 9}"
            ]
          },
          "metadata": {
            "tags": []
          },
          "execution_count": 4
        }
      ]
    },
    {
      "cell_type": "markdown",
      "metadata": {
        "id": "6zcrao2f_1Fj"
      },
      "source": [
        "Here is how we use `binvox` in our local machine. \n",
        "\n",
        " \n",
        "\n",
        "1.   Download the `ModelNet10.zip` to our local and unzip it.\n",
        "2.   Download the `binvox.exe` to our local.\n",
        "3.   Open `cmd` and use `cd` to get into the ModelNet10 folder \n",
        " \n",
        "4.   `cd` to each subfolder that contains `.off` files. (eg. bathtub/test)\n",
        "*   Run `for %i in (*.off) do BINVOXPATH -cb -e -c -d 30 \"%i\"` (eg.for %i in (*.off) do C:\\Users\\Downloads\\binvox.exe -cb -e -c -d 30 \"%i\")\n",
        "*   Run `del *.off`\n",
        "\n",
        "\n",
        "\n",
        "\n"
      ]
    },
    {
      "cell_type": "markdown",
      "metadata": {
        "id": "eCiZY_l9Xi8t"
      },
      "source": [
        "Here we upload the ModelNet10 data that preprocessed by `binvox`.\n",
        "\n",
        "In our GitHub Repo, we also provided the ModelNet10 data that have been processed by `binvox`. You can also download from [here](https://github.com/zilixie/3D-Shape-Classifiers/blob/main/VoxNet/ModelNet10_binvox.zip) and upload it to this notebook."
      ]
    },
    {
      "cell_type": "code",
      "metadata": {
        "colab": {
          "resources": {
            "http://localhost:8080/nbextensions/google.colab/files.js": {
              "data": "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",
              "ok": true,
              "headers": [
                [
                  "content-type",
                  "application/javascript"
                ]
              ],
              "status": 200,
              "status_text": ""
            }
          },
          "base_uri": "https://localhost:8080/",
          "height": 72
        },
        "id": "iPSJoHy-845t",
        "outputId": "e13849a2-f23d-4b52-f1fb-6512b3b8fbe6"
      },
      "source": [
        "from google.colab import files\n",
        "uploaded = files.upload()"
      ],
      "execution_count": 5,
      "outputs": [
        {
          "output_type": "display_data",
          "data": {
            "text/html": [
              "\n",
              "     <input type=\"file\" id=\"files-36f266d6-cf00-4d47-80c3-12dbf49627db\" name=\"files[]\" multiple disabled\n",
              "        style=\"border:none\" />\n",
              "     <output id=\"result-36f266d6-cf00-4d47-80c3-12dbf49627db\">\n",
              "      Upload widget is only available when the cell has been executed in the\n",
              "      current browser session. Please rerun this cell to enable.\n",
              "      </output>\n",
              "      <script src=\"/nbextensions/google.colab/files.js\"></script> "
            ],
            "text/plain": [
              "<IPython.core.display.HTML object>"
            ]
          },
          "metadata": {
            "tags": []
          }
        },
        {
          "output_type": "stream",
          "text": [
            "Saving ModelNet10_binvox.zip to ModelNet10_binvox.zip\n"
          ],
          "name": "stdout"
        }
      ]
    },
    {
      "cell_type": "code",
      "metadata": {
        "id": "ObA0php5FXua"
      },
      "source": [
        "!unzip -q ModelNet10_binvox.zip;"
      ],
      "execution_count": 6,
      "outputs": []
    },
    {
      "cell_type": "markdown",
      "metadata": {
        "id": "LdUDcydcHZkx"
      },
      "source": [
        "Functions to read binary binvox format as array and convert the data into Voxels type.\n",
        "\n",
        "More details about the functions please refer https://github.com/dimatura/binvox-rw-py"
      ]
    },
    {
      "cell_type": "code",
      "metadata": {
        "id": "7iJaqDH7GFvZ"
      },
      "source": [
        "class Voxels(object):\n",
        "    \"\"\" Holds a binvox model.\n",
        "    data is either a three-dimensional numpy boolean array (dense representation)\n",
        "    or a two-dimensional numpy float array (coordinate representation).\n",
        "    dims, translate and scale are the model metadata.\n",
        "    dims are the voxel dimensions, e.g. [32, 32, 32] for a 32x32x32 model.\n",
        "    scale and translate relate the voxels to the original model coordinates.\n",
        "    To translate voxel coordinates i, j, k to original coordinates x, y, z:\n",
        "    x_n = (i+.5)/dims[0]\n",
        "    y_n = (j+.5)/dims[1]\n",
        "    z_n = (k+.5)/dims[2]\n",
        "    x = scale*x_n + translate[0]\n",
        "    y = scale*y_n + translate[1]\n",
        "    z = scale*z_n + translate[2]\n",
        "    \"\"\"\n",
        "\n",
        "    def __init__(self, data, dims, translate, scale, axis_order):\n",
        "        self.data = data\n",
        "        self.dims = dims\n",
        "        self.translate = translate\n",
        "        self.scale = scale\n",
        "        assert (axis_order in ('xzy', 'xyz'))\n",
        "        self.axis_order = axis_order\n",
        "\n",
        "    def clone(self):\n",
        "        data = self.data.copy()\n",
        "        dims = self.dims[:]\n",
        "        translate = self.translate[:]\n",
        "        return Voxels(data, dims, translate, self.scale, self.axis_order)\n",
        "\n",
        "    def write(self, fp):\n",
        "        write(self, fp)\n"
      ],
      "execution_count": 7,
      "outputs": []
    },
    {
      "cell_type": "code",
      "metadata": {
        "id": "J9gC2dYCEHNH"
      },
      "source": [
        "def read_header(fp):\n",
        "    \"\"\" Read binvox header. Mostly meant for internal use.\n",
        "    \"\"\"\n",
        "    line = fp.readline().strip()\n",
        "    if not line.startswith(b'#binvox'):\n",
        "        raise IOError('Not a binvox file')\n",
        "    dims = list(map(int, fp.readline().strip().split(b' ')[1:]))\n",
        "    translate = list(map(float, fp.readline().strip().split(b' ')[1:]))\n",
        "    scale = list(map(float, fp.readline().strip().split(b' ')[1:]))[0]\n",
        "    line = fp.readline()\n",
        "    return dims, translate, scale\n",
        "    \n",
        "def read_as_3d_array(fp, fix_coords=True):\n",
        "    \"\"\" Read binary binvox format as array.\n",
        "    Returns the model with accompanying metadata.\n",
        "    Voxels are stored in a three-dimensional numpy array, which is simple and\n",
        "    direct, but may use a lot of memory for large models. (Storage requirements\n",
        "    are 8*(d^3) bytes, where d is the dimensions of the binvox model. Numpy\n",
        "    boolean arrays use a byte per element).\n",
        "    Doesn't do any checks on input except for the '#binvox' line.\n",
        "    \"\"\"\n",
        "    dims, translate, scale = read_header(fp)\n",
        "    raw_data = np.frombuffer(fp.read(), dtype=np.uint8)\n",
        "    # if just using reshape() on the raw data:\n",
        "    # indexing the array as array[i,j,k], the indices map into the\n",
        "    # coords as:\n",
        "    # i -> x\n",
        "    # j -> z\n",
        "    # k -> y\n",
        "    # if fix_coords is true, then data is rearranged so that\n",
        "    # mapping is\n",
        "    # i -> x\n",
        "    # j -> y\n",
        "    # k -> z\n",
        "    values, counts = raw_data[::2], raw_data[1::2]\n",
        "    data = np.repeat(values, counts).astype(np.bool)\n",
        "    data = data.reshape(dims)\n",
        "    if fix_coords:\n",
        "        # xzy to xyz TODO the right thing\n",
        "        data = np.transpose(data, (0, 2, 1))\n",
        "        axis_order = 'xyz'\n",
        "    else:\n",
        "        axis_order = 'xzy'\n",
        "    return Voxels(data, dims, translate, scale, axis_order)"
      ],
      "execution_count": 8,
      "outputs": []
    },
    {
      "cell_type": "markdown",
      "metadata": {
        "id": "lyxJJ1RKIKpP"
      },
      "source": [
        "Wrap the data into testing and training sets."
      ]
    },
    {
      "cell_type": "code",
      "metadata": {
        "id": "YpIDj99uFiMS"
      },
      "source": [
        "ROOT = 'ModelNet10_binvox'\n",
        "CLASSES = ['bathtub', 'bed', 'chair', 'desk', 'dresser', 'monitor', 'night_stand', 'sofa', 'table', 'toilet']\n",
        "\n",
        "X = {'train': [], 'test': []}\n",
        "y = {'train': [], 'test': []}\n",
        "for label, cl in enumerate(CLASSES):\n",
        "    for split in ['train', 'test']:\n",
        "        examples_dir = os.path.join('.', ROOT, cl, split)\n",
        "        for example in os.listdir(examples_dir):\n",
        "            if 'binvox' in example:\n",
        "                with open(os.path.join(examples_dir, example), 'rb') as file:\n",
        "                    data = np.int32(read_as_3d_array(file).data)\n",
        "                    # padded_data = np.pad(data, 3, 'constant')\n",
        "                    # X[split].append(padded_data)\n",
        "                    X[split].append(data)\n",
        "                    y[split].append(label)"
      ],
      "execution_count": 9,
      "outputs": []
    },
    {
      "cell_type": "markdown",
      "metadata": {
        "id": "qkOj5tBOIRpZ"
      },
      "source": [
        "Save the data in npz foramt."
      ]
    },
    {
      "cell_type": "code",
      "metadata": {
        "id": "s-oO9StlHPir"
      },
      "source": [
        "np.savez_compressed('modelnet10_processed.npz',\n",
        "                    X_train=X['train'],\n",
        "                    X_test=X['test'],\n",
        "                    y_train=y['train'],\n",
        "                    y_test=y['test'])"
      ],
      "execution_count": 10,
      "outputs": []
    },
    {
      "cell_type": "code",
      "metadata": {
        "id": "jGUvBO4QucVM"
      },
      "source": [
        "modelnet_file = 'modelnet10_processed.npz'\n",
        "data = np.load(modelnet_file)"
      ],
      "execution_count": 11,
      "outputs": []
    },
    {
      "cell_type": "code",
      "metadata": {
        "id": "i3g3xmH1I9RX"
      },
      "source": [
        "X, Y = shuffle(data['X_train'], data['y_train'])\n",
        "X_test, Y_test = shuffle(data['X_test'], data['y_test'])"
      ],
      "execution_count": 12,
      "outputs": []
    },
    {
      "cell_type": "code",
      "metadata": {
        "colab": {
          "base_uri": "https://localhost:8080/"
        },
        "id": "SUOkUmk9Gpj1",
        "outputId": "b08cad23-5a61-4067-a911-3c5dd7b2a81d"
      },
      "source": [
        "print('the number of training samples: ' + str(len(data['X_train'])))\n",
        "print('the number of testing samples: ' + str(len(data['X_test'])))\n",
        "print('the size of each sample: ' + str(data['X_test'][1].size))\n",
        "print(\"The number of classes: \",len(classes))"
      ],
      "execution_count": 13,
      "outputs": [
        {
          "output_type": "stream",
          "text": [
            "the number of training samples: 3991\n",
            "the number of testing samples: 908\n",
            "the size of each sample: 27000\n",
            "The number of classes:  10\n"
          ],
          "name": "stdout"
        }
      ]
    },
    {
      "cell_type": "markdown",
      "metadata": {
        "id": "y0397SG882MU"
      },
      "source": [
        "## Visulization"
      ]
    },
    {
      "cell_type": "code",
      "metadata": {
        "id": "PCy3MwAv4RnX"
      },
      "source": [
        "def drawVoxel(voxels):\n",
        "    fig = plt.figure()\n",
        "    ax = fig.gca(projection='3d')\n",
        "    ax.voxels(voxels)\n",
        "    # ax.invert_zaxis()"
      ],
      "execution_count": 14,
      "outputs": []
    },
    {
      "cell_type": "code",
      "metadata": {
        "colab": {
          "base_uri": "https://localhost:8080/",
          "height": 248
        },
        "id": "hl_D993_6Rj5",
        "outputId": "2b29197e-4336-41a6-f1c0-1d58e2fc7889"
      },
      "source": [
        "drawVoxel(X_test[1])"
      ],
      "execution_count": 15,
      "outputs": [
        {
          "output_type": "display_data",
          "data": {
            "image/png": "[encoded data removed]",
            "text/plain": [
              "<Figure size 432x288 with 1 Axes>"
            ]
          },
          "metadata": {
            "tags": [],
            "needs_background": "light"
          }
        }
      ]
    },
    {
      "cell_type": "code",
      "metadata": {
        "colab": {
          "base_uri": "https://localhost:8080/"
        },
        "id": "kXRXFLmV6dw2",
        "outputId": "d903db91-5eba-4fd0-b665-62069d1f760e"
      },
      "source": [
        "for label, num in classes.items():  \n",
        "    if num == Y_test[1]:\n",
        "        print(\"the label of this sample: \" +label)"
      ],
      "execution_count": 16,
      "outputs": [
        {
          "output_type": "stream",
          "text": [
            "the label of this sample: bathtub\n"
          ],
          "name": "stdout"
        }
      ]
    },
    {
      "cell_type": "markdown",
      "metadata": {
        "id": "SflQfC-z1PWu"
      },
      "source": [
        "## Create VoxNet Model"
      ]
    },
    {
      "cell_type": "code",
      "metadata": {
        "id": "mQTmEcpA9Hi-",
        "colab": {
          "base_uri": "https://localhost:8080/"
        },
        "outputId": "9e61a050-162d-46fa-fce3-870aa7e1daea"
      },
      "source": [
        "model = Sequential()\n",
        "model.add(Reshape((30, 30, 30, 1), input_shape=(30, 30, 30)))  # 1 in-channel\n",
        "model.add(Conv3D(16, 6, strides=2, activation='relu'))\n",
        "model.add(Conv3D(64, 5, strides=2, activation='relu'))\n",
        "model.add(Conv3D(64, 5, strides=2, activation='relu'))\n",
        "model.add(Flatten())\n",
        "model.add(Dense(10, activation='softmax'))\n",
        "\n",
        "opt = optimizers.Adam(lr=0.001)\n",
        "model.compile(loss='categorical_crossentropy', optimizer=opt, metrics=['accuracy'])\n",
        "model.summary()"
      ],
      "execution_count": 36,
      "outputs": [
        {
          "output_type": "stream",
          "text": [
            "Model: \"sequential_1\"\n",
            "_________________________________________________________________\n",
            "Layer (type)                 Output Shape              Param #   \n",
            "=================================================================\n",
            "reshape_1 (Reshape)          (None, 30, 30, 30, 1)     0         \n",
            "_________________________________________________________________\n",
            "conv3d_3 (Conv3D)            (None, 13, 13, 13, 16)    3472      \n",
            "_________________________________________________________________\n",
            "conv3d_4 (Conv3D)            (None, 5, 5, 5, 64)       128064    \n",
            "_________________________________________________________________\n",
            "conv3d_5 (Conv3D)            (None, 1, 1, 1, 64)       512064    \n",
            "_________________________________________________________________\n",
            "flatten_1 (Flatten)          (None, 64)                0         \n",
            "_________________________________________________________________\n",
            "dense_1 (Dense)              (None, 10)                650       \n",
            "=================================================================\n",
            "Total params: 644,250\n",
            "Trainable params: 644,250\n",
            "Non-trainable params: 0\n",
            "_________________________________________________________________\n"
          ],
          "name": "stdout"
        }
      ]
    },
    {
      "cell_type": "markdown",
      "metadata": {
        "id": "OjY-yJh91VFN"
      },
      "source": [
        "## Training"
      ]
    },
    {
      "cell_type": "markdown",
      "metadata": {
        "id": "kysDI6W4EHgA"
      },
      "source": [
        "Load the testing and training data.\n",
        "\n",
        "For label vectors, we process them with one-hot coding , as so to use with categorical_crossentropy."
      ]
    },
    {
      "cell_type": "code",
      "metadata": {
        "id": "J7JEbSk3uZTk"
      },
      "source": [
        "X, Y = shuffle(data['X_train'], data['y_train'])\n",
        "X_test, Y_test = shuffle(data['X_test'], data['y_test'])"
      ],
      "execution_count": 18,
      "outputs": []
    },
    {
      "cell_type": "code",
      "metadata": {
        "colab": {
          "base_uri": "https://localhost:8080/"
        },
        "id": "7Fo3Y_oWEcSc",
        "outputId": "bb58bfd8-aeea-47b1-aaa2-69507a237f23"
      },
      "source": [
        "print('the label of the first training data before one-hot coding: ', Y[0])"
      ],
      "execution_count": 19,
      "outputs": [
        {
          "output_type": "stream",
          "text": [
            "the label of the first training data before one-hot coding:  7\n"
          ],
          "name": "stdout"
        }
      ]
    },
    {
      "cell_type": "code",
      "metadata": {
        "id": "fr9rf-ZRvWCJ"
      },
      "source": [
        "# change the label to one-hot mode\n",
        "Y = keras.utils.to_categorical(Y, num_classes=10)"
      ],
      "execution_count": 20,
      "outputs": []
    },
    {
      "cell_type": "code",
      "metadata": {
        "colab": {
          "base_uri": "https://localhost:8080/"
        },
        "id": "mIDBsqXxDz_6",
        "outputId": "1472c589-57b6-47ed-fa19-49be961c56a2"
      },
      "source": [
        "print('the label of the first training data after one-hot coding', Y[0])"
      ],
      "execution_count": 21,
      "outputs": [
        {
          "output_type": "stream",
          "text": [
            "the label of the first training data after one-hot coding [0. 0. 0. 0. 0. 0. 0. 1. 0. 0.]\n"
          ],
          "name": "stdout"
        }
      ]
    },
    {
      "cell_type": "markdown",
      "metadata": {
        "id": "rl-3ABCw2Csx"
      },
      "source": [
        "Here, we use \n",
        "* categorical_crossentropy as loss function.\n",
        "* Adam optimizers in the training. \n",
        "* Learning rate is set as 0.001.\n",
        "* 20% of the training data to be used as validation data.\n",
        "* Shuffle the training data before each epoch\n",
        "* train for 15 epoches\n",
        "* batch size set as 32"
      ]
    },
    {
      "cell_type": "code",
      "metadata": {
        "colab": {
          "base_uri": "https://localhost:8080/"
        },
        "id": "FmP5gfyW9JeK",
        "outputId": "a3b2113e-7360-4157-c62c-d4f370a6bbce"
      },
      "source": [
        "# batch_size - Number of samples per gradient update.\n",
        "# validation_split - fraction of the training data to be used as validation data.\n",
        "# shuffle = True - shuffle the training data before each epoch\n",
        "history = model.fit(X, Y, batch_size=256, epochs=15, verbose=2, validation_split=0.2, shuffle=True)"
      ],
      "execution_count": 37,
      "outputs": [
        {
          "output_type": "stream",
          "text": [
            "Epoch 1/15\n",
            "13/13 - 1s - loss: 1.2519 - accuracy: 0.6024 - val_loss: 0.5051 - val_accuracy: 0.8498\n",
            "Epoch 2/15\n",
            "13/13 - 0s - loss: 0.4126 - accuracy: 0.8659 - val_loss: 0.3090 - val_accuracy: 0.9186\n",
            "Epoch 3/15\n",
            "13/13 - 0s - loss: 0.2590 - accuracy: 0.9198 - val_loss: 0.2228 - val_accuracy: 0.9412\n",
            "Epoch 4/15\n",
            "13/13 - 0s - loss: 0.1618 - accuracy: 0.9467 - val_loss: 0.1917 - val_accuracy: 0.9449\n",
            "Epoch 5/15\n",
            "13/13 - 0s - loss: 0.1216 - accuracy: 0.9583 - val_loss: 0.2205 - val_accuracy: 0.9337\n",
            "Epoch 6/15\n",
            "13/13 - 0s - loss: 0.1039 - accuracy: 0.9627 - val_loss: 0.2055 - val_accuracy: 0.9462\n",
            "Epoch 7/15\n",
            "13/13 - 0s - loss: 0.1044 - accuracy: 0.9627 - val_loss: 0.1941 - val_accuracy: 0.9412\n",
            "Epoch 8/15\n",
            "13/13 - 0s - loss: 0.0908 - accuracy: 0.9668 - val_loss: 0.1926 - val_accuracy: 0.9462\n",
            "Epoch 9/15\n",
            "13/13 - 0s - loss: 0.0569 - accuracy: 0.9818 - val_loss: 0.2007 - val_accuracy: 0.9474\n",
            "Epoch 10/15\n",
            "13/13 - 0s - loss: 0.0413 - accuracy: 0.9853 - val_loss: 0.2266 - val_accuracy: 0.9499\n",
            "Epoch 11/15\n",
            "13/13 - 0s - loss: 0.0282 - accuracy: 0.9897 - val_loss: 0.2043 - val_accuracy: 0.9499\n",
            "Epoch 12/15\n",
            "13/13 - 0s - loss: 0.0235 - accuracy: 0.9919 - val_loss: 0.2475 - val_accuracy: 0.9449\n",
            "Epoch 13/15\n",
            "13/13 - 0s - loss: 0.0237 - accuracy: 0.9915 - val_loss: 0.2456 - val_accuracy: 0.9537\n",
            "Epoch 14/15\n",
            "13/13 - 0s - loss: 0.0255 - accuracy: 0.9909 - val_loss: 0.2512 - val_accuracy: 0.9487\n",
            "Epoch 15/15\n",
            "13/13 - 0s - loss: 0.0310 - accuracy: 0.9893 - val_loss: 0.2530 - val_accuracy: 0.9462\n"
          ],
          "name": "stdout"
        }
      ]
    },
    {
      "cell_type": "markdown",
      "metadata": {
        "id": "8c57hmUeCzqF"
      },
      "source": [
        "## Testing "
      ]
    },
    {
      "cell_type": "code",
      "metadata": {
        "id": "xaKJWeOzSMFF"
      },
      "source": [
        "prediction = model.predict(X_test)"
      ],
      "execution_count": 23,
      "outputs": []
    },
    {
      "cell_type": "code",
      "metadata": {
        "id": "tzgAE6jFS4tb"
      },
      "source": [
        "prediction_labels = np.argmax(prediction, axis=1)"
      ],
      "execution_count": 24,
      "outputs": []
    },
    {
      "cell_type": "code",
      "metadata": {
        "colab": {
          "base_uri": "https://localhost:8080/"
        },
        "id": "FjojKs6aTAz6",
        "outputId": "1af1e866-bcba-4f4d-dc70-f6c632eb2ee9"
      },
      "source": [
        "print(len(prediction_labels))"
      ],
      "execution_count": 25,
      "outputs": [
        {
          "output_type": "stream",
          "text": [
            "908\n"
          ],
          "name": "stdout"
        }
      ]
    },
    {
      "cell_type": "code",
      "metadata": {
        "colab": {
          "base_uri": "https://localhost:8080/"
        },
        "id": "PCbjmmgsT8dO",
        "outputId": "50e579f4-fe25-4fd9-e857-3bdebe3f779b"
      },
      "source": [
        "test_acc = accuracy_score(Y_test, prediction_labels)\n",
        "print('The accuracy on testing data: ', test_acc)"
      ],
      "execution_count": 40,
      "outputs": [
        {
          "output_type": "stream",
          "text": [
            "The accuracy on testing data:  0.8755506607929515\n"
          ],
          "name": "stdout"
        }
      ]
    },
    {
      "cell_type": "markdown",
      "metadata": {
        "id": "b_56a3H41ZwU"
      },
      "source": [
        "## Results"
      ]
    },
    {
      "cell_type": "code",
      "metadata": {
        "colab": {
          "base_uri": "https://localhost:8080/"
        },
        "id": "CS1eKirWVOwz",
        "outputId": "dbb691f2-e0bd-478b-c671-415e87d73d6a"
      },
      "source": [
        "list(classes.values())"
      ],
      "execution_count": 27,
      "outputs": [
        {
          "output_type": "execute_result",
          "data": {
            "text/plain": [
              "[0, 1, 2, 3, 4, 5, 6, 7, 8, 9]"
            ]
          },
          "metadata": {
            "tags": []
          },
          "execution_count": 27
        }
      ]
    },
    {
      "cell_type": "code",
      "metadata": {
        "id": "hf8KIvJ_9LaU"
      },
      "source": [
        "cm = confusion_matrix(Y_test, prediction_labels, labels=list(classes.values()))\n",
        "# print('Confusion matrix:\\n{}'.format(cm))"
      ],
      "execution_count": 38,
      "outputs": []
    },
    {
      "cell_type": "code",
      "metadata": {
        "colab": {
          "base_uri": "https://localhost:8080/"
        },
        "id": "9F35D5SXBCwG",
        "outputId": "17a75b6a-eb04-4682-f172-3c1e62d708f2"
      },
      "source": [
        "avg_acc = np.mean(np.diagonal(cm) / np.sum(cm, axis=1))\n",
        "print('The average prediction accuracy on testing data per-class: ', avg_acc)"
      ],
      "execution_count": 39,
      "outputs": [
        {
          "output_type": "stream",
          "text": [
            "The average prediction accuracy on testing data per-class:  0.8661162790697674\n"
          ],
          "name": "stdout"
        }
      ]
    },
    {
      "cell_type": "code",
      "metadata": {
        "id": "LzS6AhfG9W_c"
      },
      "source": [
        "def plot_confusion_matrix(cm, classes, normalize=False, title='Confusion matrix', cmap=plt.cm.Blues):\n",
        "    if normalize:\n",
        "        cm = cm.astype('float') / cm.sum(axis=1)[:, np.newaxis]\n",
        "        print(\"Normalized confusion matrix\")\n",
        "    else:\n",
        "        print('Confusion matrix, without normalization')\n",
        "\n",
        "    plt.imshow(cm, interpolation='nearest', cmap=cmap)\n",
        "    plt.title(title)\n",
        "    plt.colorbar()\n",
        "    tick_marks = np.arange(len(classes))\n",
        "    plt.xticks(tick_marks, classes, rotation=45)\n",
        "    plt.yticks(tick_marks, classes)\n",
        "\n",
        "    fmt = '.2f' if normalize else 'd'\n",
        "    thresh = cm.max() / 2.\n",
        "    for i, j in itertools.product(range(cm.shape[0]), range(cm.shape[1])):\n",
        "        plt.text(j, i, format(cm[i, j], fmt), horizontalalignment=\"center\", color=\"white\" if cm[i, j] > thresh else \"black\")\n",
        "\n",
        "    plt.tight_layout()\n",
        "    plt.ylabel('True label')\n",
        "    plt.xlabel('Predicted label')"
      ],
      "execution_count": 30,
      "outputs": []
    },
    {
      "cell_type": "code",
      "metadata": {
        "colab": {
          "base_uri": "https://localhost:8080/",
          "height": 591
        },
        "id": "H6G_wue29uSS",
        "outputId": "53860efd-19cd-408f-f6af-50701510de59"
      },
      "source": [
        "plt.figure(figsize=(8,8))\n",
        "plot_confusion_matrix(cm, list(classes.keys()), normalize=False)"
      ],
      "execution_count": 31,
      "outputs": [
        {
          "output_type": "stream",
          "text": [
            "Confusion matrix, without normalization\n"
          ],
          "name": "stdout"
        },
        {
          "output_type": "display_data",
          "data": {
            "image/png": "[encoded data removed]",
            "text/plain": [
              "<Figure size 576x576 with 2 Axes>"
            ]
          },
          "metadata": {
            "tags": [],
            "needs_background": "light"
          }
        }
      ]
    },
    {
      "cell_type": "code",
      "metadata": {
        "colab": {
          "base_uri": "https://localhost:8080/",
          "height": 591
        },
        "id": "QRDLxykMFNb-",
        "outputId": "b2c8e639-66ca-4b4c-a39c-87cbdeb52c5e"
      },
      "source": [
        "plt.figure(figsize=(8,8))\n",
        "plot_confusion_matrix(cm, list(classes.keys()), normalize=True)"
      ],
      "execution_count": 32,
      "outputs": [
        {
          "output_type": "stream",
          "text": [
            "Normalized confusion matrix\n"
          ],
          "name": "stdout"
        },
        {
          "output_type": "display_data",
          "data": {
            "image/png": "[encoded data removed]",
            "text/plain": [
              "<Figure size 576x576 with 2 Axes>"
            ]
          },
          "metadata": {
            "tags": [],
            "needs_background": "light"
          }
        }
      ]
    },
    {
      "cell_type": "code",
      "metadata": {
        "colab": {
          "base_uri": "https://localhost:8080/"
        },
        "id": "UdfEf-lGJOLx",
        "outputId": "5db78656-ed21-4f9b-dae3-b1fa60f10c67"
      },
      "source": [
        "# print(history.history)\n",
        "print(history.history.keys())"
      ],
      "execution_count": 33,
      "outputs": [
        {
          "output_type": "stream",
          "text": [
            "dict_keys(['loss', 'accuracy', 'val_loss', 'val_accuracy'])\n"
          ],
          "name": "stdout"
        }
      ]
    },
    {
      "cell_type": "code",
      "metadata": {
        "colab": {
          "base_uri": "https://localhost:8080/",
          "height": 295
        },
        "id": "yJq8B0oAFR1l",
        "outputId": "6436a81e-025d-4c38-f378-ab299353cd3b"
      },
      "source": [
        "# Plot history: loss\n",
        "plt.plot(history.history['loss'], label='training data')\n",
        "plt.plot(history.history['val_loss'], label='validation data')\n",
        "plt.title('Loss for VoxNet')\n",
        "plt.ylabel('Loss value')\n",
        "plt.xlabel('No. epoch')\n",
        "plt.legend(loc=\"upper left\")\n",
        "plt.show()\n"
      ],
      "execution_count": 41,
      "outputs": [
        {
          "output_type": "display_data",
          "data": {
            "image/png": "[encoded data removed]",
            "text/plain": [
              "<Figure size 432x288 with 1 Axes>"
            ]
          },
          "metadata": {
            "tags": [],
            "needs_background": "light"
          }
        }
      ]
    },
    {
      "cell_type": "code",
      "metadata": {
        "colab": {
          "base_uri": "https://localhost:8080/",
          "height": 295
        },
        "id": "sU4FhBLeIRcE",
        "outputId": "9249ef44-4201-48a8-fb37-515f41c9091b"
      },
      "source": [
        "# Plot history: acc\n",
        "plt.plot(history.history['accuracy'], label='training data')\n",
        "plt.plot(history.history['val_accuracy'], label='validation data')\n",
        "plt.title('Accuracy for VoxNet')\n",
        "plt.ylabel('Accuracy value')\n",
        "plt.xlabel('No. epoch')\n",
        "plt.legend(loc=\"upper left\")\n",
        "plt.show()"
      ],
      "execution_count": 42,
      "outputs": [
        {
          "output_type": "display_data",
          "data": {
            "image/png": "[encoded data removed]",
            "text/plain": [
              "<Figure size 432x288 with 1 Axes>"
            ]
          },
          "metadata": {
            "tags": [],
            "needs_background": "light"
          }
        }
      ]
    },
    {
      "cell_type": "code",
      "metadata": {
        "id": "UyZRbRMfJYq6"
      },
      "source": [
        ""
      ],
      "execution_count": null,
      "outputs": []
    }
  ]
}